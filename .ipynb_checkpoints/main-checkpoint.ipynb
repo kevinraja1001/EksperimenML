{
 "cells": [
  {
   "cell_type": "markdown",
   "metadata": {},
   "source": [
    "# Eksperimen IF4071 - Pembelajaran Mesin\n",
    "### 13514050 - Harry Octavianus Purba\n",
    "### 13514060 - Jeremia Kavin Raja P.\n",
    "### 13514082 - Rio Chandra Rajagukguk"
   ]
  },
  {
   "cell_type": "markdown",
   "metadata": {},
   "source": [
    "#### Analisis Data dan Penanganan Data"
   ]
  },
  {
   "cell_type": "code",
   "execution_count": 1,
   "metadata": {},
   "outputs": [
    {
     "ename": "NameError",
     "evalue": "name 'data' is not defined",
     "output_type": "error",
     "traceback": [
      "\u001b[1;31m---------------------------------------------------------------------------\u001b[0m",
      "\u001b[1;31mNameError\u001b[0m                                 Traceback (most recent call last)",
      "\u001b[1;32m<ipython-input-1-847bf20bf31d>\u001b[0m in \u001b[0;36m<module>\u001b[1;34m()\u001b[0m\n\u001b[0;32m     82\u001b[0m \u001b[1;31m#             delimiter=\",\")\u001b[0m\u001b[1;33m\u001b[0m\u001b[1;33m\u001b[0m\u001b[0m\n\u001b[0;32m     83\u001b[0m \u001b[1;33m\u001b[0m\u001b[0m\n\u001b[1;32m---> 84\u001b[1;33m \u001b[0mdata\u001b[0m \u001b[1;33m=\u001b[0m \u001b[0mfLEX\u001b[0m\u001b[1;33m(\u001b[0m\u001b[0mdataset\u001b[0m\u001b[1;33m,\u001b[0m \u001b[1;36m15\u001b[0m\u001b[1;33m,\u001b[0m \u001b[1;32mFalse\u001b[0m\u001b[1;33m)\u001b[0m\u001b[1;33m\u001b[0m\u001b[0m\n\u001b[0m\u001b[0;32m     85\u001b[0m \u001b[1;33m\u001b[0m\u001b[0m\n\u001b[0;32m     86\u001b[0m \u001b[1;31m# dataTraining terdapat tiga key: data, target, target_name\u001b[0m\u001b[1;33m\u001b[0m\u001b[1;33m\u001b[0m\u001b[0m\n",
      "\u001b[1;32m<ipython-input-1-847bf20bf31d>\u001b[0m in \u001b[0;36mfLEX\u001b[1;34m(DATA, numDatasetColumn, isSplitDataTarget)\u001b[0m\n\u001b[0;32m     75\u001b[0m             \u001b[0mdataTrain\u001b[0m\u001b[1;33m[\u001b[0m\u001b[0mi\u001b[0m\u001b[1;33m]\u001b[0m \u001b[1;33m=\u001b[0m \u001b[0mDATA\u001b[0m\u001b[1;33m[\u001b[0m\u001b[0mi\u001b[0m\u001b[1;33m]\u001b[0m\u001b[1;33m\u001b[0m\u001b[0m\n\u001b[0;32m     76\u001b[0m \u001b[1;33m\u001b[0m\u001b[0m\n\u001b[1;32m---> 77\u001b[1;33m     \u001b[1;32mreturn\u001b[0m \u001b[0mdata\u001b[0m\u001b[1;33m\u001b[0m\u001b[0m\n\u001b[0m\u001b[0;32m     78\u001b[0m \u001b[1;33m\u001b[0m\u001b[0m\n\u001b[0;32m     79\u001b[0m dataset = pd.read_csv(\"DatasetEskperimen/CensusIncome/CencusIncome.data.txt\", header=None, \n",
      "\u001b[1;31mNameError\u001b[0m: name 'data' is not defined"
     ]
    }
   ],
   "source": [
    "import pandas as pd\n",
    "import numpy as np\n",
    "from sklearn import preprocessing\n",
    "import numbers\n",
    "\n",
    "def preProcessData(DATA, numDatasetColumn, isSplitDataTarget):\n",
    "    dataTrain = {}\n",
    "    datasetColumn = numDatasetColumn\n",
    "\n",
    "    le = preprocessing.LabelEncoder()\n",
    "\n",
    "    dataTrainX = []\n",
    "\n",
    "    # Hardcode dataset target name\n",
    "    dataTrain['target_name'] = ['<=50K', '>50K']\n",
    "    \n",
    "    # Fit data TARGET & transform for labelling non-number\n",
    "    le.fit(DATA[datasetColumn - 1])\n",
    "    dataTrainY = le.transform(DATA[datasetColumn - 1])\n",
    "\n",
    "    # init target & length data target\n",
    "    dataTrain['target'] = []\n",
    "    lenDataTarget = len(dataTrainY)\n",
    "    \n",
    "    # FILL DATA TARGET\n",
    "    for i in range(lenDataTarget):\n",
    "        dataTrain['target'].append(dataTrainY[i])\n",
    "\n",
    "    # Fill temporary data feed\n",
    "    for i in range(datasetColumn - 1):\n",
    "        if(not(isinstance(DATA[i][0], numbers.Number))):\n",
    "            le.fit(DATA[i])\n",
    "            dataTrainX.append(le.transform(DATA[i]))\n",
    "        else:\n",
    "            dataTrainX.append(DATA[i])\n",
    "\n",
    "    # FILL DATA FEED\n",
    "    lenDataSet = len(dataTrainX[0])\n",
    "    lenAttr = len(dataTrainX)\n",
    "    dataTrain['data'] = []\n",
    "    for i in range(lenDataSet):\n",
    "        temp = []\n",
    "        for j in range(lenAttr):\n",
    "            temp.append(dataTrainX[j][i])\n",
    "        dataTrain['data'].append(temp)\n",
    "\n",
    "    # Checking\n",
    "    if isSplitDataTarget:\n",
    "        return dataTrain\n",
    "        \n",
    "    # FILL DATA for VISUALIZATION\n",
    "    dataForVisualization = []\n",
    "    lenDataTrain = len(dataTrain['data'])\n",
    "    for i in range(lenDataTrain):\n",
    "        temp = []\n",
    "        for j in range(lenAttr):\n",
    "            temp.append(dataTrain['data'][i][j])\n",
    "        temp.append(dataTrain['target'][i])\n",
    "\n",
    "        dataForVisualization.append(temp)\n",
    "\n",
    "    return dataForVisualization\n",
    "\n",
    "def fLEX(DATA, numDatasetColumn, isSplitDataTarget):\n",
    "    dataTrain = {}\n",
    "    datasetColumn = numDatasetColumn\n",
    "    le = preprocessing.LabelEncoder()\n",
    "    \n",
    "    # Fill temporary data feed\n",
    "    for i in range(datasetColumn):\n",
    "        if(not(isinstance(DATA[i][0], numbers.Number))):\n",
    "            le.fit(DATA[i])\n",
    "            dataTrain[i] = (le.transform(DATA[i]))\n",
    "        else:\n",
    "            dataTrain[i] = DATA[i]\n",
    "\n",
    "    return dataTrain\n",
    "\n",
    "dataset = pd.read_csv(\"DatasetEskperimen/CensusIncome/CencusIncome.data.txt\", header=None, \n",
    "            delimiter=\",\")\n",
    "# datatest = pd.read_csv(\"DatasetEskperimen/CensusIncome/CencusIncome.test.txt\", header=None, \n",
    "#             delimiter=\",\")\n",
    "\n",
    "data = fLEX(dataset, 15, False)\n",
    "\n",
    "# dataTraining terdapat tiga key: data, target, target_name"
   ]
  },
  {
   "cell_type": "code",
   "execution_count": null,
   "metadata": {
    "scrolled": true
   },
   "outputs": [],
   "source": []
  },
  {
   "cell_type": "code",
   "execution_count": null,
   "metadata": {},
   "outputs": [],
   "source": [
    "# Import Libraries\n",
    "import seaborn as sns; sns.set(style=\"ticks\", color_codes=True)\n",
    "import matplotlib.pyplot as plt\n",
    "import numpy as np\n",
    "\n",
    "# Tampilkan data\n",
    "# ds = np.array(data)\n",
    "g = sns.pairplot(data, hue=14)\n",
    "plt.show()"
   ]
  },
  {
   "cell_type": "code",
   "execution_count": null,
   "metadata": {
    "collapsed": true
   },
   "outputs": [],
   "source": []
  }
 ],
 "metadata": {
  "kernelspec": {
   "display_name": "Python 3",
   "language": "python",
   "name": "python3"
  },
  "language_info": {
   "codemirror_mode": {
    "name": "ipython",
    "version": 3
   },
   "file_extension": ".py",
   "mimetype": "text/x-python",
   "name": "python",
   "nbconvert_exporter": "python",
   "pygments_lexer": "ipython3",
   "version": "3.6.3"
  }
 },
 "nbformat": 4,
 "nbformat_minor": 2
}
