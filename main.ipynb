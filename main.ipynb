{
 "cells": [
  {
   "cell_type": "markdown",
   "metadata": {},
   "source": [
    "# Eksperimen IF4071 - Pembelajaran Mesin\n",
    "### 13514050 - Harry Octavianus Purba\n",
    "### 13514060 - Jeremia Kavin Raja P.\n",
    "### 13514082 - Rio Chandra Rajagukguk"
   ]
  },
  {
   "cell_type": "markdown",
   "metadata": {},
   "source": [
    "#### Analisis Data dan Penanganan Data"
   ]
  },
  {
   "cell_type": "code",
   "execution_count": null,
   "metadata": {},
   "outputs": [],
   "source": [
    "import pandas as pd\n",
    "from sklearn import preprocessing\n",
    "import numbers\n",
    "\n",
    "dataset = pd.read_csv(\"DatasetEskperimen/CensusIncome/CencusIncome.data.txt\", header=None, \n",
    "            delimiter=\",\")\n",
    "\n",
    "dataTrain = {}\n",
    "datasetColumn = 15\n",
    "\n",
    "le = preprocessing.LabelEncoder()\n",
    "\n",
    "dataTrainX = []\n",
    "\n",
    "dataTrain['target_name'] = ['<=50K', '>50K']\n",
    "le.fit(dataset[datasetColumn - 1])\n",
    "dataTrainY = le.transform(dataset[datasetColumn - 1])\n",
    "\n",
    "dataTrain['target'] = []\n",
    "lenDataTarget = len(dataTrainY)\n",
    "for i in range(lenDataTarget):\n",
    "    dataTrain['target'].append(dataTrainY[i])\n",
    "\n",
    "for i in range(datasetColumn - 1):\n",
    "    if(not(isinstance(dataset[i][0], numbers.Number))):\n",
    "        le.fit(dataset[i])\n",
    "        dataTrainX.append(le.transform(dataset[i]))\n",
    "    else:\n",
    "        dataTrainX.append(dataset[i])\n",
    "\n",
    "lenDataSet = len(dataTrainX[0])\n",
    "lenAttr = len(dataTrainX)\n",
    "dataTrain['data'] = []\n",
    "for i in range(lenDataSet):\n",
    "    temp = []\n",
    "    for j in range(lenAttr):\n",
    "        temp.append(dataTrainX[j][i])\n",
    "    \n",
    "    dataTrain['data'].append(temp)\n",
    "\n",
    "dataForVisualization = []\n",
    "for i in range(15):\n",
    "    temp = []\n",
    "    for j in range(lenAttr):\n",
    "        temp.append(dataTrainData[i][j])\n",
    "    temp.append(dataTrain['target'][i])\n",
    "    \n",
    "    dataForVisualization.append(temp)\n",
    "\n",
    "dataForVisualization\n",
    "\n",
    "# dataTraining terdapat tiga key: data, target, target_name"
   ]
  },
  {
   "cell_type": "code",
   "execution_count": 2,
   "metadata": {
    "collapsed": true,
    "scrolled": true
   },
   "outputs": [],
   "source": [
    "\n",
    "from sklearn import tree\n",
    "\n",
    "clfdtliris = tree.DecisionTreeClassifier()\n",
    "clfdtliris = clfdtliris.fit(dataTrain['data'], dataTrain['target'])"
   ]
  }
 ],
 "metadata": {
  "kernelspec": {
   "display_name": "Python 2",
   "language": "python",
   "name": "python2"
  },
  "language_info": {
   "codemirror_mode": {
    "name": "ipython",
    "version": 2
   },
   "file_extension": ".py",
   "mimetype": "text/x-python",
   "name": "python",
   "nbconvert_exporter": "python",
   "pygments_lexer": "ipython2",
   "version": "2.7.14"
  }
 },
 "nbformat": 4,
 "nbformat_minor": 2
}
