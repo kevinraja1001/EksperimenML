{
 "cells": [
  {
   "cell_type": "markdown",
   "metadata": {},
   "source": [
    "# Eksperimen IF4071 - Pembelajaran Mesin\n",
    "### 13514050 - Harry Octavianus Purba\n",
    "### 13514060 - Jeremia Kavin Raja P.\n",
    "### 13514082 - Rio Chandra Rajagukguk"
   ]
  },
  {
   "cell_type": "markdown",
   "metadata": {},
   "source": [
    "#### Analisis Data dan Penanganan Data"
   ]
  },
  {
   "cell_type": "code",
   "execution_count": 13,
   "metadata": {},
   "outputs": [
    {
     "data": {
      "text/plain": [
       "array([[    39,      7,  77516, ...,     40,     39,      0],\n",
       "       [    50,      6,  83311, ...,     13,     39,      0],\n",
       "       [    38,      4, 215646, ...,     40,     39,      0],\n",
       "       ..., \n",
       "       [    58,      4, 151910, ...,     40,     39,      0],\n",
       "       [    22,      4, 201490, ...,     20,     39,      0],\n",
       "       [    52,      5, 287927, ...,     40,     39,      1]])"
      ]
     },
     "execution_count": 13,
     "metadata": {},
     "output_type": "execute_result"
    }
   ],
   "source": [
    "import pandas as pd\n",
    "import numpy as np\n",
    "from sklearn import preprocessing\n",
    "import numbers\n",
    "\n",
    "def preProcessData(DATA, numDatasetColumn, isSplitDataTarget):\n",
    "    dataTrain = {}\n",
    "    datasetColumn = numDatasetColumn\n",
    "\n",
    "    le = preprocessing.LabelEncoder()\n",
    "\n",
    "    dataTrainX = []\n",
    "\n",
    "    # Hardcode dataset target name\n",
    "    dataTrain['target_name'] = ['<=50K', '>50K']\n",
    "    \n",
    "    # Fit data TARGET & transform for labelling non-number\n",
    "    le.fit(DATA[datasetColumn - 1])\n",
    "    dataTrainY = le.transform(DATA[datasetColumn - 1])\n",
    "\n",
    "    # init target & length data target\n",
    "    dataTrain['target'] = []\n",
    "    lenDataTarget = len(dataTrainY)\n",
    "    \n",
    "    # FILL DATA TARGET\n",
    "    for i in range(lenDataTarget):\n",
    "        dataTrain['target'].append(dataTrainY[i])\n",
    "\n",
    "    # Fill temporary data feed\n",
    "    for i in range(datasetColumn - 1):\n",
    "        if(not(isinstance(DATA[i][0], numbers.Number))):\n",
    "            le.fit(DATA[i])\n",
    "            dataTrainX.append(le.transform(DATA[i]))\n",
    "        else:\n",
    "            dataTrainX.append(DATA[i])\n",
    "\n",
    "    # FILL DATA FEED\n",
    "    lenDataSet = len(dataTrainX[0])\n",
    "    lenAttr = len(dataTrainX)\n",
    "    dataTrain['data'] = []\n",
    "    for i in range(lenDataSet):\n",
    "        temp = []\n",
    "        for j in range(lenAttr):\n",
    "            temp.append(dataTrainX[j][i])\n",
    "        dataTrain['data'].append(temp)\n",
    "\n",
    "    # Checking\n",
    "    if isSplitDataTarget:\n",
    "        return dataTrain\n",
    "        \n",
    "    # FILL DATA for VISUALIZATION\n",
    "    dataForVisualization = []\n",
    "    lenDataTrain = len(dataTrain['data'])\n",
    "    for i in range(lenDataTrain):\n",
    "        temp = []\n",
    "        for j in range(lenAttr):\n",
    "            temp.append(dataTrain['data'][i][j])\n",
    "        temp.append(dataTrain['target'][i])\n",
    "\n",
    "        dataForVisualization.append(temp)\n",
    "\n",
    "    return dataForVisualization\n",
    "\n",
    "def fLEX(DATA, numDatasetColumn, isSplitDataTarget):\n",
    "    dataTrain = {}\n",
    "    datasetColumn = numDatasetColumn\n",
    "    le = preprocessing.LabelEncoder()\n",
    "    \n",
    "    # Fill temporary data feed\n",
    "    for i in range(datasetColumn):\n",
    "        if(not(isinstance(DATA[i][0], numbers.Number))):\n",
    "            le.fit(DATA[i])\n",
    "            dataTrain[i] = (le.transform(DATA[i]))\n",
    "        else:\n",
    "            dataTrain[i] = DATA[i]\n",
    "\n",
    "    return data\n",
    "\n",
    "dataset = pd.read_csv(\"DatasetEskperimen/CensusIncome/CencusIncome.data.txt\", header=None, \n",
    "            delimiter=\",\")\n",
    "# datatest = pd.read_csv(\"DatasetEskperimen/CensusIncome/CencusIncome.test.txt\", header=None, \n",
    "#             delimiter=\",\")\n",
    "\n",
    "# data = preProcessData(dataset, 15, False)\n",
    "np.array(fL)\n",
    "\n",
    "# dataTraining terdapat tiga key: data, target, target_name"
   ]
  },
  {
   "cell_type": "code",
   "execution_count": 5,
   "metadata": {
    "scrolled": true
   },
   "outputs": [
    {
     "ename": "NameError",
     "evalue": "name 'dataTrain' is not defined",
     "output_type": "error",
     "traceback": [
      "\u001b[0;31m--------------------------------------------------------\u001b[0m",
      "\u001b[0;31mNameError\u001b[0m              Traceback (most recent call last)",
      "\u001b[0;32m<ipython-input-5-cc6e90d8bfe3>\u001b[0m in \u001b[0;36m<module>\u001b[0;34m()\u001b[0m\n\u001b[1;32m      3\u001b[0m \u001b[0;34m\u001b[0m\u001b[0m\n\u001b[1;32m      4\u001b[0m \u001b[0mclfdtliris\u001b[0m \u001b[0;34m=\u001b[0m \u001b[0mtree\u001b[0m\u001b[0;34m.\u001b[0m\u001b[0mDecisionTreeClassifier\u001b[0m\u001b[0;34m(\u001b[0m\u001b[0;34m)\u001b[0m\u001b[0;34m\u001b[0m\u001b[0m\n\u001b[0;32m----> 5\u001b[0;31m \u001b[0mclfdtliris\u001b[0m \u001b[0;34m=\u001b[0m \u001b[0mclfdtliris\u001b[0m\u001b[0;34m.\u001b[0m\u001b[0mfit\u001b[0m\u001b[0;34m(\u001b[0m\u001b[0mdataTrain\u001b[0m\u001b[0;34m[\u001b[0m\u001b[0;34m'data'\u001b[0m\u001b[0;34m]\u001b[0m\u001b[0;34m,\u001b[0m \u001b[0mdataTrain\u001b[0m\u001b[0;34m[\u001b[0m\u001b[0;34m'target'\u001b[0m\u001b[0;34m]\u001b[0m\u001b[0;34m)\u001b[0m\u001b[0;34m\u001b[0m\u001b[0m\n\u001b[0m",
      "\u001b[0;31mNameError\u001b[0m: name 'dataTrain' is not defined"
     ]
    }
   ],
   "source": [
    "\n",
    "from sklearn import tree\n",
    "\n",
    "clfdtliris = tree.DecisionTreeClassifier()\n",
    "clfdtliris = clfdtliris.fit(dataTrain['data'], dataTrain['target'])"
   ]
  },
  {
   "cell_type": "code",
   "execution_count": null,
   "metadata": {
    "collapsed": true
   },
   "outputs": [],
   "source": []
  }
 ],
 "metadata": {
  "kernelspec": {
   "display_name": "Python 2",
   "language": "python",
   "name": "python2"
  },
  "language_info": {
   "codemirror_mode": {
    "name": "ipython",
    "version": 2
   },
   "file_extension": ".py",
   "mimetype": "text/x-python",
   "name": "python",
   "nbconvert_exporter": "python",
   "pygments_lexer": "ipython2",
   "version": "2.7.14"
  }
 },
 "nbformat": 4,
 "nbformat_minor": 2
}
